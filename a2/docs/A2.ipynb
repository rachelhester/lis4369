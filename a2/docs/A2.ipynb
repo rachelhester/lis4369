{
 "cells": [
  {
   "cell_type": "code",
   "execution_count": 1,
   "id": "2cf0f406",
   "metadata": {},
   "outputs": [],
   "source": [
    "def get_requirements():\n",
    "    print(\"Payroll Calculator\")\n",
    "    print()\n",
    "    print(\"Program Requirements:\")\n",
    "    print(\"1. Must use float data type for user input.\")\n",
    "    print(\"2. Overtime rate: 1.5 times hourly rate (hours over 40).\")\n",
    "    print(\"3. Holiday rate: 2.0 times hourly rate (all holiday hours)\")\n",
    "    print(\"4. Must format currency with dollar sign, and round to two decimal places.\")\n",
    "    print(\"5. Create at least three functions that are called by the program:\")\n",
    "    print(\"\\t a. main(): calls at least two other functions.\")\n",
    "    print(\"\\t b. get_requirements(): displays the program requirements.\")\n",
    "    print(\"\\t c. calculate_payroll(): calculates an individual one-week paycheck.\")"
   ]
  },
  {
   "cell_type": "code",
   "execution_count": 2,
   "id": "a4b85ae3",
   "metadata": {},
   "outputs": [],
   "source": [
    "def calculate_hours():\n",
    "\n",
    "    #variables given\n",
    "    base_hours = 40\n",
    "    overtime_rate = 1.5\n",
    "    holiday_rate = 2.0\n",
    "\n",
    "    #input \n",
    "    print(\"\\nInput:\")\n",
    "    hours = float(input(\"Enter hours worked: \"))\n",
    "    holiday_hours = float(input(\"Enter holiday hours: \"))\n",
    "    hourly_pay = float(input(\"Enter hourly pay rate: \"))\n",
    "\n",
    "    #math to calculate pay rates\n",
    "    base_pay = base_hours * hourly_pay\n",
    "    overtime_hours = hours - base_hours \n",
    "\n",
    "    #if statement\n",
    "    if hours > base_hours:\n",
    "\n",
    "        #overtime calculation\n",
    "        overtime_pay = overtime_hours * hourly_pay * overtime_rate \n",
    "\n",
    "        #holiday calculation\n",
    "        holiday_pay = holiday_hours * hourly_pay * holiday_rate \n",
    "\n",
    "        #calculate total gross pay\n",
    "        total_pay = base_hours * hourly_pay + overtime_pay + holiday_pay \n",
    "\n",
    "    else:\n",
    "        #calculate total pay without overtime but include holiday work\n",
    "        overtime_pay = 0\n",
    "        holiday_pay = holiday_hours * hourly_pay * holiday_rate \n",
    "        total_pay = base_hours * hourly_pay + holiday_pay \n",
    "    \n",
    "        \n",
    "    #output\n",
    "    print(\"\\nOutput:\")\n",
    "    print(\"{0:<10} ${1:,.2f}\".format('Base:', base_pay))\n",
    "    print(\"{0:<10} ${1:,.2f}\".format('Overtime:', overtime_pay))\n",
    "    print(\"{0:<10} ${1:,.2f}\".format('Holiday:', holiday_pay))\n",
    "    print(\"{0:<10} ${1:,.2f}\".format('Total/Gross:', total_pay))"
   ]
  },
  {
   "cell_type": "code",
   "execution_count": 3,
   "id": "acba0e0d",
   "metadata": {},
   "outputs": [
    {
     "name": "stdout",
     "output_type": "stream",
     "text": [
      "Payroll Calculator\n",
      "\n",
      "Program Requirements:\n",
      "1. Must use float data type for user input.\n",
      "2. Overtime rate: 1.5 times hourly rate (hours over 40).\n",
      "3. Holiday rate: 2.0 times hourly rate (all holiday hours)\n",
      "4. Must format currency with dollar sign, and round to two decimal places.\n",
      "5. Create at least three functions that are called by the program:\n",
      "\t a. main(): calls at least two other functions.\n",
      "\t b. get_requirements(): displays the program requirements.\n",
      "\t c. calculate_payroll(): calculates an individual one-week paycheck.\n",
      "\n",
      "Input:\n",
      "Enter hours worked: 45\n",
      "Enter holiday hours: 20\n",
      "Enter hourly pay rate: 15\n",
      "\n",
      "Output:\n",
      "Base:      $600.00\n",
      "Overtime:  $112.50\n",
      "Holiday:   $600.00\n",
      "Total/Gross: $1,312.50\n"
     ]
    }
   ],
   "source": [
    "import functions as f \n",
    "\n",
    "def main():\n",
    "    f.get_requirements()\n",
    "    f.calculate_hours()\n",
    "\n",
    "if __name__ == \"__main__\":\n",
    "    main()"
   ]
  },
  {
   "cell_type": "code",
   "execution_count": 4,
   "id": "29f6f4f0",
   "metadata": {},
   "outputs": [
    {
     "name": "stdout",
     "output_type": "stream",
     "text": [
      "Payroll Calculator\n",
      "\n",
      "Program Requirements:\n",
      "1. Must use float data type for user input.\n",
      "2. Overtime rate: 1.5 times hourly rate (hours over 40).\n",
      "3. Holiday rate: 2.0 times hourly rate (all holiday hours)\n",
      "4. Must format currency with dollar sign, and round to two decimal places.\n",
      "5. Create at least three functions that are called by the program:\n",
      "\t a. main(): calls at least two other functions.\n",
      "\t b. get_requirements(): displays the program requirements.\n",
      "\t c. calculate_payroll(): calculates an individual one-week paycheck.\n",
      "\n",
      "Input:\n",
      "Enter hours worked: 40\n",
      "Enter holiday hours: 20\n",
      "Enter hourly pay rate: 15\n",
      "\n",
      "Output:\n",
      "Base:      $600.00\n",
      "Overtime:  $0.00\n",
      "Holiday:   $600.00\n",
      "Total/Gross: $1,200.00\n"
     ]
    }
   ],
   "source": [
    "if __name__ == \"__main__\":\n",
    "    main()"
   ]
  },
  {
   "cell_type": "code",
   "execution_count": null,
   "id": "c79e1435",
   "metadata": {},
   "outputs": [],
   "source": []
  }
 ],
 "metadata": {
  "kernelspec": {
   "display_name": "Python 3",
   "language": "python",
   "name": "python3"
  },
  "language_info": {
   "codemirror_mode": {
    "name": "ipython",
    "version": 3
   },
   "file_extension": ".py",
   "mimetype": "text/x-python",
   "name": "python",
   "nbconvert_exporter": "python",
   "pygments_lexer": "ipython3",
   "version": "3.8.8"
  }
 },
 "nbformat": 4,
 "nbformat_minor": 5
}
