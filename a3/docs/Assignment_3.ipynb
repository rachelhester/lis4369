{
 "cells": [
  {
   "cell_type": "code",
   "execution_count": 1,
   "id": "2b439642",
   "metadata": {},
   "outputs": [],
   "source": [
    "def get_requirements():\n",
    "    print(\"Painting Estimator\\n\")\n",
    "    print(\"Program Requirements:\")\n",
    "    print(\"1. Calculate home interior paint cost (w/o primer)\")\n",
    "    print(\"2. Must use float data types.\")\n",
    "    print(\"3. Must use SQFT_PER_GALLON constant (350)\")\n",
    "    print(\"4. Must use iteration structure (aka \\\"/loop\\\"/\")\n",
    "    print(\"5. Format, right-align numbers, and round to two decimal places.\")\n",
    "    print(\"6. Create at least five functions that are called by the program:\")\n",
    "    print(\"\\t a. main(): calls two other functions: get_requirements() and estimate_painting_cost()\")\n",
    "    print(\"\\t b. get_requirements(): displays the program requirements\")\n",
    "    print(\"\\t c. estimate_painting_cost(): calculates interior home painting, and calls print functions\")\n",
    "    print(\"\\t d. print_painting_estimate(): displays painting costs\")\n",
    "    print(\"\\t e. print_painting_percentage(): displays painting costs percentages\")"
   ]
  },
  {
   "cell_type": "code",
   "execution_count": 2,
   "id": "af1e66c6",
   "metadata": {},
   "outputs": [],
   "source": [
    "def estimate_painting_cost():\n",
    "    SQFT_PER_GALLON = 350\n",
    "    print(\"\\nInput:\")\n",
    "    interior_total = float(input(\"Enter total interior sq ft: \"))\n",
    "    price_per_gallon = float(input(\"Enter price per gallon paint: \"))\n",
    "    hourly_rate = float(input(\"Enter hourly painting rate per sq ft: \"))\n",
    "\n",
    "    number_of_gallons = interior_total / SQFT_PER_GALLON\n",
    "    cost_of_paint = number_of_gallons * price_per_gallon \n",
    "    cost_of_labor = interior_total * hourly_rate \n",
    "\n",
    "    total_cost = cost_of_paint + cost_of_labor\n",
    "    paint_percentage = cost_of_paint / total_cost * 100\n",
    "    labor_percentage = cost_of_labor / total_cost * 100\n",
    "    total_percentage = paint_percentage + labor_percentage \n",
    "\n",
    "    print_painting_estimate(interior_total, SQFT_PER_GALLON, number_of_gallons, price_per_gallon, hourly_rate)\n",
    "    print_painting_percentage(cost_of_paint, cost_of_labor, total_cost, paint_percentage, labor_percentage, total_percentage)\n",
    "\n",
    "    print()\n",
    "    cont = input(\"Estimate another paint job? (y/n): \")\n",
    "    while cont.lower() in ['y', 'n']:\n",
    "        if cont == 'y':\n",
    "            estimate_painting_cost()\n",
    "            break\n",
    "        if cont == 'n':\n",
    "            print()\n",
    "            print(\"Thank you for using our Paint Estimator!\\n\\n\")\n",
    "            print(\"Please see our website: http://rachelhester.com\")\n",
    "            break"
   ]
  },
  {
   "cell_type": "code",
   "execution_count": 3,
   "id": "16bb404c",
   "metadata": {},
   "outputs": [],
   "source": [
    "def print_painting_estimate(interior_total, SQ_FT_PER_GALLON, number_of_gallons, price_per_gallon, hourly_rate):\n",
    "    print(\"\\nOutput:\")\n",
    "    print(\"{0:<10} {1:>20}\".format(\"Item\", \"Amount\"))\n",
    "    print(\"{0:<10} {1:>18,.2f}\".format(\"Total Sq Ft:\", interior_total))\n",
    "    print(\"{0:<10} {1:>13,.2f}\".format(\"Sq Ft per Gallon:\", SQ_FT_PER_GALLON))\n",
    "    print(\"{0:<10} {1:>12,.2f}\".format(\"Number of Gallons:\", number_of_gallons))\n",
    "    print(\"{0:<10}      ${1:>8,.2f}\".format(\"Paint per Gallon:\", price_per_gallon))\n",
    "    print(\"{0:<10}       ${1:>8,.2f}\".format(\"Labor per Sq Ft:\", hourly_rate))"
   ]
  },
  {
   "cell_type": "code",
   "execution_count": 4,
   "id": "ac421434",
   "metadata": {},
   "outputs": [],
   "source": [
    "def print_painting_percentage(cost_of_paint, cost_of_labor, total_cost, paint_percentage, labor_percentage, total_percentage):\n",
    "    print(\"{0:<9} {1:>10} {2:>14}\".format(\"\\nCost\", \"Amount\", \"Percentage\"))\n",
    "    print(\"{0:<9} ${1:>8,.2f} {2:>13,.2f}%\".format(\"Paint:\", cost_of_paint, paint_percentage))\n",
    "    print(\"{0:<9} ${1:>4,.2f} {2:>13,.2f}%\".format(\"Labor:\", cost_of_labor, labor_percentage))\n",
    "    print(\"{0:<9} ${1:>4,.2f} {2:>13,.2f}%\".format(\"Total:\", total_cost, total_percentage))"
   ]
  },
  {
   "cell_type": "code",
   "execution_count": 5,
   "id": "7766893d",
   "metadata": {},
   "outputs": [
    {
     "name": "stdout",
     "output_type": "stream",
     "text": [
      "Painting Estimator\n",
      "\n",
      "Program Requirements:\n",
      "1. Calculate home interior paint cost (w/o primer)\n",
      "2. Must use float data types.\n",
      "3. Must use SQFT_PER_GALLON constant (350)\n",
      "4. Must use iteration structure (aka \"/loop\"/\n",
      "5. Format, right-align numbers, and round to two decimal places.\n",
      "6. Create at least five functions that are called by the program:\n",
      "\t a. main(): calls two other functions: get_requirements() and estimate_painting_cost()\n",
      "\t b. get_requirements(): displays the program requirements\n",
      "\t c. estimate_painting_cost(): calculates interior home painting, and calls print functions\n",
      "\t d. print_painting_estimate(): displays painting costs\n",
      "\t e. print_painting_percentage(): displays painting costs percentages\n",
      "\n",
      "Input:\n",
      "Enter total interior sq ft: 2500\n",
      "Enter price per gallon paint: 30\n",
      "Enter hourly painting rate per sq ft: 12\n",
      "\n",
      "Output:\n",
      "Item                     Amount\n",
      "Total Sq Ft:           2,500.00\n",
      "Sq Ft per Gallon:        350.00\n",
      "Number of Gallons:         7.14\n",
      "Paint per Gallon:      $   30.00\n",
      "Labor per Sq Ft:       $   12.00\n",
      "\n",
      "Cost         Amount     Percentage\n",
      "Paint:    $  214.29          0.71%\n",
      "Labor:    $30,000.00         99.29%\n",
      "Total:    $30,214.29        100.00%\n",
      "\n",
      "Estimate another paint job? (y/n): y\n",
      "\n",
      "Input:\n",
      "Enter total interior sq ft: 3000\n",
      "Enter price per gallon paint: 40\n",
      "Enter hourly painting rate per sq ft: 2\n",
      "\n",
      "Output:\n",
      "Item                     Amount\n",
      "Total Sq Ft:           3,000.00\n",
      "Sq Ft per Gallon:        350.00\n",
      "Number of Gallons:         8.57\n",
      "Paint per Gallon:      $   40.00\n",
      "Labor per Sq Ft:       $    2.00\n",
      "\n",
      "Cost         Amount     Percentage\n",
      "Paint:    $  342.86          5.41%\n",
      "Labor:    $6,000.00         94.59%\n",
      "Total:    $6,342.86        100.00%\n",
      "\n",
      "Estimate another paint job? (y/n): n\n",
      "\n",
      "Thank you for using our Paint Estimator!\n",
      "\n",
      "\n",
      "Please see our website: http://rachelhester.com\n"
     ]
    }
   ],
   "source": [
    "import functions as f \n",
    "\n",
    "def main():\n",
    "    f.get_requirements()\n",
    "    f.estimate_painting_cost()\n",
    "    \n",
    "\n",
    "\n",
    "if __name__ == \"__main__\":\n",
    "    main()"
   ]
  },
  {
   "cell_type": "code",
   "execution_count": null,
   "id": "08f30f24",
   "metadata": {
    "scrolled": true
   },
   "outputs": [],
   "source": []
  }
 ],
 "metadata": {
  "kernelspec": {
   "display_name": "Python 3",
   "language": "python",
   "name": "python3"
  },
  "language_info": {
   "codemirror_mode": {
    "name": "ipython",
    "version": 3
   },
   "file_extension": ".py",
   "mimetype": "text/x-python",
   "name": "python",
   "nbconvert_exporter": "python",
   "pygments_lexer": "ipython3",
   "version": "3.8.8"
  }
 },
 "nbformat": 4,
 "nbformat_minor": 5
}
